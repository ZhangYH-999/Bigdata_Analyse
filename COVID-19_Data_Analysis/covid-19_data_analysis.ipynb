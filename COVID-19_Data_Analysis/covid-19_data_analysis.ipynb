{
 "cells": [
  {
   "cell_type": "markdown",
   "metadata": {
    "collapsed": true,
    "pycharm": {
     "name": "#%% md\n"
    }
   },
   "source": [
    "## COVID-19 Data Analysis\n",
    "\n",
    "### 1. 数据处理"
   ]
  },
  {
   "cell_type": "code",
   "execution_count": 6,
   "outputs": [
    {
     "data": {
      "text/plain": "  Province/State Country/Region       Lat       Long  1/22/20  1/23/20  \\\n0            NaN    Afghanistan  33.93911  67.709953        0        0   \n1            NaN        Albania  41.15330  20.168300        0        0   \n2            NaN        Algeria  28.03390   1.659600        0        0   \n3            NaN        Andorra  42.50630   1.521800        0        0   \n4            NaN         Angola -11.20270  17.873900        0        0   \n\n   1/24/20  1/25/20  1/26/20  1/27/20  ...  2003/11/21  2003/12/21  3/13/21  \\\n0        0        0        0        0  ...       55917       55959    55959   \n1        0        0        0        0  ...      115442      116123   116821   \n2        0        0        0        0  ...      114851      115008   115143   \n3        0        0        0        0  ...       11130       11199    11228   \n4        0        0        0        0  ...       21205       21265    21323   \n\n   3/14/21  3/15/21  3/16/21  3/17/21  3/18/21  3/19/21  3/20/21  \n0    55985    55985    55995    56016    56044    56069    56093  \n1   117474   118017   118492   118938   119528   120022   120541  \n2   115265   115410   115540   115688   115842   115970   116066  \n3    11266    11289    11319    11360    11393    11431    11481  \n4    21380    21407    21446    21489    21558    21642    21696  \n\n[5 rows x 428 columns]",
      "text/html": "<div>\n<style scoped>\n    .dataframe tbody tr th:only-of-type {\n        vertical-align: middle;\n    }\n\n    .dataframe tbody tr th {\n        vertical-align: top;\n    }\n\n    .dataframe thead th {\n        text-align: right;\n    }\n</style>\n<table border=\"1\" class=\"dataframe\">\n  <thead>\n    <tr style=\"text-align: right;\">\n      <th></th>\n      <th>Province/State</th>\n      <th>Country/Region</th>\n      <th>Lat</th>\n      <th>Long</th>\n      <th>1/22/20</th>\n      <th>1/23/20</th>\n      <th>1/24/20</th>\n      <th>1/25/20</th>\n      <th>1/26/20</th>\n      <th>1/27/20</th>\n      <th>...</th>\n      <th>2003/11/21</th>\n      <th>2003/12/21</th>\n      <th>3/13/21</th>\n      <th>3/14/21</th>\n      <th>3/15/21</th>\n      <th>3/16/21</th>\n      <th>3/17/21</th>\n      <th>3/18/21</th>\n      <th>3/19/21</th>\n      <th>3/20/21</th>\n    </tr>\n  </thead>\n  <tbody>\n    <tr>\n      <th>0</th>\n      <td>NaN</td>\n      <td>Afghanistan</td>\n      <td>33.93911</td>\n      <td>67.709953</td>\n      <td>0</td>\n      <td>0</td>\n      <td>0</td>\n      <td>0</td>\n      <td>0</td>\n      <td>0</td>\n      <td>...</td>\n      <td>55917</td>\n      <td>55959</td>\n      <td>55959</td>\n      <td>55985</td>\n      <td>55985</td>\n      <td>55995</td>\n      <td>56016</td>\n      <td>56044</td>\n      <td>56069</td>\n      <td>56093</td>\n    </tr>\n    <tr>\n      <th>1</th>\n      <td>NaN</td>\n      <td>Albania</td>\n      <td>41.15330</td>\n      <td>20.168300</td>\n      <td>0</td>\n      <td>0</td>\n      <td>0</td>\n      <td>0</td>\n      <td>0</td>\n      <td>0</td>\n      <td>...</td>\n      <td>115442</td>\n      <td>116123</td>\n      <td>116821</td>\n      <td>117474</td>\n      <td>118017</td>\n      <td>118492</td>\n      <td>118938</td>\n      <td>119528</td>\n      <td>120022</td>\n      <td>120541</td>\n    </tr>\n    <tr>\n      <th>2</th>\n      <td>NaN</td>\n      <td>Algeria</td>\n      <td>28.03390</td>\n      <td>1.659600</td>\n      <td>0</td>\n      <td>0</td>\n      <td>0</td>\n      <td>0</td>\n      <td>0</td>\n      <td>0</td>\n      <td>...</td>\n      <td>114851</td>\n      <td>115008</td>\n      <td>115143</td>\n      <td>115265</td>\n      <td>115410</td>\n      <td>115540</td>\n      <td>115688</td>\n      <td>115842</td>\n      <td>115970</td>\n      <td>116066</td>\n    </tr>\n    <tr>\n      <th>3</th>\n      <td>NaN</td>\n      <td>Andorra</td>\n      <td>42.50630</td>\n      <td>1.521800</td>\n      <td>0</td>\n      <td>0</td>\n      <td>0</td>\n      <td>0</td>\n      <td>0</td>\n      <td>0</td>\n      <td>...</td>\n      <td>11130</td>\n      <td>11199</td>\n      <td>11228</td>\n      <td>11266</td>\n      <td>11289</td>\n      <td>11319</td>\n      <td>11360</td>\n      <td>11393</td>\n      <td>11431</td>\n      <td>11481</td>\n    </tr>\n    <tr>\n      <th>4</th>\n      <td>NaN</td>\n      <td>Angola</td>\n      <td>-11.20270</td>\n      <td>17.873900</td>\n      <td>0</td>\n      <td>0</td>\n      <td>0</td>\n      <td>0</td>\n      <td>0</td>\n      <td>0</td>\n      <td>...</td>\n      <td>21205</td>\n      <td>21265</td>\n      <td>21323</td>\n      <td>21380</td>\n      <td>21407</td>\n      <td>21446</td>\n      <td>21489</td>\n      <td>21558</td>\n      <td>21642</td>\n      <td>21696</td>\n    </tr>\n  </tbody>\n</table>\n<p>5 rows × 428 columns</p>\n</div>"
     },
     "execution_count": 6,
     "metadata": {},
     "output_type": "execute_result"
    }
   ],
   "source": [
    "import pandas as pd\n",
    "\n",
    "confirmed_data = pd.read_csv('time_series_covid19_confirmed_global.csv')\n",
    "death_data = pd.read_csv('time_series_covid19_deaths_global.csv')\n",
    "recovered_data = pd.read_csv('time_series_covid19_recovered_global.csv')\n",
    "\n",
    "confirmed_data.head()"
   ],
   "metadata": {
    "collapsed": false,
    "pycharm": {
     "name": "#%%\n"
    }
   }
  },
  {
   "cell_type": "code",
   "execution_count": 7,
   "outputs": [],
   "source": [
    "# 格式化美国名称\n",
    "confirmed_data['Country/Region'] = confirmed_data['Country/Region'].apply(lambda x: 'United States' if x=='US' else x)\n",
    "death_data['Country/Region'] = death_data['Country/Region'].apply(lambda x: 'United States' if x=='US' else x)\n",
    "recovered_data['Country/Region'] = recovered_data['Country/Region'].apply(lambda x: 'United States' if x=='US' else x)\n",
    "\n",
    "idx = confirmed_data[confirmed_data['Country/Region'] == 'Taiwan*'].index\n",
    "confirmed_data.loc[idx, 'Province/State'] = 'Taiwan'\n",
    "confirmed_data.loc[idx, 'Country/Region'] = 'China'\n",
    "\n",
    "idx = death_data[death_data['Country/Region'] == 'Taiwan*'].index\n",
    "death_data.loc[idx, 'Province/State'] = 'Taiwan'\n",
    "death_data.loc[idx, 'Country/Region'] = 'China'\n"
   ],
   "metadata": {
    "collapsed": false,
    "pycharm": {
     "name": "#%%\n"
    }
   }
  },
  {
   "cell_type": "code",
   "execution_count": 9,
   "outputs": [],
   "source": [
    "country_map = {\n",
    "    'Singapore Rep.': '新加坡', 'Dominican Rep.': '多米尼加', 'Palestine': '巴勒斯坦', 'Bahamas': '巴哈马', 'Timor-Leste': '东帝汶',\n",
    "    'Afghanistan': '阿富汗', 'Guinea-Bissau': '几内亚比绍', \"Côte d'Ivoire\": '科特迪瓦', 'Siachen Glacier': '锡亚琴冰川',\n",
    "    \"Br. Indian Ocean Ter.\": '英属印度洋领土', 'Angola': '安哥拉', 'Albania': '阿尔巴尼亚', 'United Arab Emirates': '阿联酋',\n",
    "    'Argentina': '阿根廷', 'Armenia': '亚美尼亚', 'French Southern and Antarctic Lands': '法属南半球和南极领地', 'Australia': '澳大利亚',\n",
    "    'Austria': '奥地利', 'Azerbaijan': '阿塞拜疆', 'Burundi': '布隆迪', 'Belgium': '比利时', 'Benin': '贝宁', 'Burkina Faso': '布基纳法索',\n",
    "    'Bangladesh': '孟加拉国', 'Bulgaria': '保加利亚', 'The Bahamas': '巴哈马', 'Bosnia and Herz.': '波斯尼亚和黑塞哥维那', 'Belarus': '白俄罗斯',\n",
    "    'Belize': '伯利兹', 'Bermuda': '百慕大', 'Bolivia': '玻利维亚', 'Brazil': '巴西', 'Brunei': '文莱', 'Bhutan': '不丹',\n",
    "    'Botswana': '博茨瓦纳', 'Central African Rep.': '中非', 'Canada': '加拿大', 'Switzerland': '瑞士', 'Chile': '智利',\n",
    "    'China': '中国', 'Ivory Coast': '象牙海岸', 'Cameroon': '喀麦隆', 'Dem. Rep. Congo': '刚果民主共和国', 'Congo': '刚果',\n",
    "    'Colombia': '哥伦比亚', 'Costa Rica': '哥斯达黎加', 'Cuba': '古巴', 'N. Cyprus': '北塞浦路斯', 'Cyprus': '塞浦路斯', 'Czech Rep.': '捷克',\n",
    "    'Germany': '德国', 'Djibouti': '吉布提', 'Denmark': '丹麦', 'Algeria': '阿尔及利亚', 'Ecuador': '厄瓜多尔', 'Egypt': '埃及',\n",
    "    'Eritrea': '厄立特里亚', 'Spain': '西班牙', 'Estonia': '爱沙尼亚', 'Ethiopia': '埃塞俄比亚', 'Finland': '芬兰', 'Fiji': '斐',\n",
    "    'Falkland Islands': '福克兰群岛', 'France': '法国', 'Gabon': '加蓬', 'United Kingdom': '英国', 'Georgia': '格鲁吉亚',\n",
    "    'Ghana': '加纳', 'Guinea': '几内亚', 'Gambia': '冈比亚', 'Guinea Bissau': '几内亚比绍', 'Eq. Guinea': '赤道几内亚', 'Greece': '希腊',\n",
    "    'Greenland': '格陵兰', 'Guatemala': '危地马拉', 'French Guiana': '法属圭亚那', 'Guyana': '圭亚那', 'Honduras': '洪都拉斯',\n",
    "    'Croatia': '克罗地亚', 'Haiti': '海地', 'Hungary': '匈牙利', 'Indonesia': '印度尼西亚', 'India': '印度', 'Ireland': '爱尔兰',\n",
    "    'Iran': '伊朗', 'Iraq': '伊拉克', 'Iceland': '冰岛', 'Israel': '以色列', 'Italy': '意大利', 'Jamaica': '牙买加', 'Jordan': '约旦',\n",
    "    'Japan': '日本', 'Kazakhstan': '哈萨克斯坦', 'Kenya': '肯尼亚', 'Kyrgyzstan': '吉尔吉斯斯坦', 'Cambodia': '柬埔寨', 'Korea': '韩国',\n",
    "    'Kosovo': '科索沃', 'Kuwait': '科威特', 'Lao PDR': '老挝', 'Lebanon': '黎巴嫩', 'Liberia': '利比里亚', 'Libya': '利比亚',\n",
    "    'Sri Lanka': '斯里兰卡', 'Lesotho': '莱索托', 'Lithuania': '立陶宛', 'Luxembourg': '卢森堡', 'Latvia': '拉脱维亚', 'Morocco': '摩洛哥',\n",
    "    'Moldova': '摩尔多瓦', 'Madagascar': '马达加斯加', 'Mexico': '墨西哥', 'Macedonia': '马其顿', 'Mali': '马里', 'Myanmar': '缅甸',\n",
    "    'Montenegro': '黑山', 'Mongolia': '蒙古', 'Mozambique': '莫桑比克', 'Mauritania': '毛里塔尼亚', 'Malawi': '马拉维',\n",
    "    'Malaysia': '马来西亚', 'Namibia': '纳米比亚', 'New Caledonia': '新喀里多尼亚', 'Niger': '尼日尔', 'Nigeria': '尼日利亚',\n",
    "    'Nicaragua': '尼加拉瓜', 'Netherlands': '荷兰', 'Norway': '挪威', 'Nepal': '尼泊尔', 'New Zealand': '新西兰', 'Oman': '阿曼',\n",
    "    'Pakistan': '巴基斯坦', 'Panama': '巴拿马', 'Peru': '秘鲁', 'Philippines': '菲律宾', 'Papua New Guinea': '巴布亚新几内亚',\n",
    "    'Poland': '波兰', 'Puerto Rico': '波多黎各', 'Dem. Rep. Korea': '朝鲜', 'Portugal': '葡萄牙', 'Paraguay': '巴拉圭',\n",
    "    'Qatar': '卡塔尔', 'Romania': '罗马尼亚', 'Russia': '俄罗斯', 'Rwanda': '卢旺达', 'W. Sahara': '西撒哈拉', 'Saudi Arabia': '沙特阿拉伯',\n",
    "    'Sudan': '苏丹', 'S. Sudan': '南苏丹', 'Senegal': '塞内加尔', 'Solomon Is.': '所罗门群岛', 'Sierra Leone': '塞拉利昂',\n",
    "    'El Salvador': '萨尔瓦多', 'Somaliland': '索马里兰', 'Somalia': '索马里', 'Serbia': '塞尔维亚', 'Suriname': '苏里南',\n",
    "    'Slovakia': '斯洛伐克', 'Slovenia': '斯洛文尼亚', 'Sweden': '瑞典', 'Swaziland': '斯威士兰', 'Syria': '叙利亚', 'Chad': '乍得',\n",
    "    'Togo': '多哥', 'Thailand': '泰国', 'Tajikistan': '塔吉克斯坦', 'Turkmenistan': '土库曼斯坦', 'East Timor': '东帝汶',\n",
    "    'Trinidad and Tobago': '特里尼达和多巴哥', 'Tunisia': '突尼斯', 'Turkey': '土耳其', 'Tanzania': '坦桑尼亚', 'Uganda': '乌干达',\n",
    "    'Ukraine': '乌克兰', 'Uruguay': '乌拉圭', 'United States': '美国', 'Uzbekistan': '乌兹别克斯坦', 'Venezuela': '委内瑞拉',\n",
    "    'Vietnam': '越南', 'Vanuatu': '瓦努阿图', 'West Bank': '西岸', 'Yemen': '也门', 'South Africa': '南非', 'Zambia': '赞比亚',\n",
    "    'Zimbabwe': '津巴布韦', 'Comoros': '科摩罗'\n",
    "}\n",
    "\n",
    "province_map = {\n",
    "    'Anhui': '安徽', 'Beijing': '北京', 'Chongqing': '重庆', 'Gansu': '甘肃', 'Guangdong': '广东',\n",
    "    'Guangxi': '广西', 'Guizhou': '贵州', 'Hainan': '海南', 'Hebei': '河北', 'Heilongjiang': '黑龙江', 'Henan': '河南',\n",
    "    'Hong Kong': '香港', 'Hubei': '湖北', 'Hunan': '湖南', 'Inner Mongolia': '内蒙古', 'Jiangsu': '江苏',\n",
    "    'Jiangxi': '江西', 'Jilin': '吉林', 'Liaoning': '辽宁', 'Macau': '澳门', 'Ningxia': '宁夏', 'Qinghai': '青海',\n",
    "    'Shaanxi': '陕西', 'Shandong': '山东', 'Shanghai': '上海', 'Shanxi': '山西', 'Sichuan': '四川', 'Tianjin': '天津',\n",
    "    'Tibet': '西藏', 'Xinjiang': '新疆', 'Yunnan': '云南', 'Zhejiang': '浙江', 'Fujian':'福建', 'Taiwan': '台湾'\n",
    "}\n",
    "\n",
    "\n",
    "confirmed_data['Country/Region_zn'] = confirmed_data['Country/Region'].apply(lambda x: country_map.get(x, x))\n",
    "death_data['Country/Region_zn'] = death_data['Country/Region'].apply(lambda x: country_map.get(x, x))\n",
    "recovered_data['Country/Region_zn'] = recovered_data['Country/Region'].apply(lambda x: country_map.get(x, x))\n",
    "\n",
    "confirmed_data['Country/Region'] = confirmed_data['Country/Region'].apply(lambda x: country_map.get(x, x))\n",
    "death_data['Country/Region'] = death_data['Country/Region'].apply(lambda x: country_map.get(x, x))\n",
    "recovered_data['Country/Region'] = recovered_data['Country/Region'].apply(lambda x: country_map.get(x, x))\n",
    "\n"
   ],
   "metadata": {
    "collapsed": false,
    "pycharm": {
     "name": "#%%\n"
    }
   }
  },
  {
   "cell_type": "markdown",
   "source": [
    "### 2. 数据可视化"
   ],
   "metadata": {
    "collapsed": false,
    "pycharm": {
     "name": "#%% md\n"
    }
   }
  },
  {
   "cell_type": "code",
   "execution_count": 22,
   "outputs": [
    {
     "name": "stdout",
     "output_type": "stream",
     "text": [
      "Data to 3/20/21: \n",
      "total confirmation:  122813796\n",
      "total death:  2709639\n",
      "total recover:  69523087\n",
      "rate death:  2.21 %\n",
      "rate recover: 56.61%\n"
     ]
    }
   ],
   "source": [
    "import matplotlib.pyplot as plt\n",
    "\n",
    "confirmed_total = confirmed_data.iloc[:,-2].sum()\n",
    "death_total = death_data.iloc[:, -2].sum()\n",
    "recovered_total = recovered_data.iloc[:, -2].sum()\n",
    "\n",
    "rate_death = death_total/confirmed_total * 100\n",
    "rate_recover = recovered_total/confirmed_total * 100\n",
    "\n",
    "print(f'Data to {confirmed_data.columns[-2]}: ')\n",
    "print('total confirmation: ', confirmed_total)\n",
    "print('total death: ', death_total)\n",
    "print('total recover: ', recovered_total)\n",
    "print(f'rate death: {rate_death: .2f} %')\n",
    "print(f'rate recover: {rate_recover:.2f}%')\n"
   ],
   "metadata": {
    "collapsed": false,
    "pycharm": {
     "name": "#%%\n"
    }
   }
  },
  {
   "cell_type": "code",
   "execution_count": null,
   "outputs": [],
   "source": [],
   "metadata": {
    "collapsed": false,
    "pycharm": {
     "name": "#%%\n"
    }
   }
  }
 ],
 "metadata": {
  "kernelspec": {
   "display_name": "Python 3",
   "language": "python",
   "name": "python3"
  },
  "language_info": {
   "codemirror_mode": {
    "name": "ipython",
    "version": 2
   },
   "file_extension": ".py",
   "mimetype": "text/x-python",
   "name": "python",
   "nbconvert_exporter": "python",
   "pygments_lexer": "ipython2",
   "version": "2.7.6"
  }
 },
 "nbformat": 4,
 "nbformat_minor": 0
}