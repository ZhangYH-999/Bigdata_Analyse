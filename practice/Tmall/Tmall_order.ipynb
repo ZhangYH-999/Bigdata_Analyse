{
 "cells": [
  {
   "cell_type": "markdown",
   "id": "f60c5aab",
   "metadata": {},
   "source": [
    "# Tmall 订单数据分析\n",
    "## 数据说明\n",
    "数据来源：[和鲸社区](https://www.heywhale.com/home/)\n",
    "\n",
    "3份互不相关的电商数据集：\n",
    "\n",
    "`tmall_order_report.cvs` (天猫订单表)\n",
    "\n",
    "`双十一淘宝美妆数据.csv`\n",
    "\n",
    "`日化.xlsx`\n",
    "\n",
    "\n",
    "### Part 1\n",
    "mall_order_report.csv ：约2.8万条订单数据，可供挖掘的省份（收货地址），指标则有销售量、销售额、退款金额、退货率、成交率、地区分布、下单时间趋势等\n",
    "\n",
    "#### 1.1 数据处理"
   ]
  },
  {
   "cell_type": "code",
   "execution_count": 1,
   "id": "e2315495",
   "metadata": {},
   "outputs": [
    {
     "data": {
      "text/html": [
       "<div>\n",
       "<style scoped>\n",
       "    .dataframe tbody tr th:only-of-type {\n",
       "        vertical-align: middle;\n",
       "    }\n",
       "\n",
       "    .dataframe tbody tr th {\n",
       "        vertical-align: top;\n",
       "    }\n",
       "\n",
       "    .dataframe thead th {\n",
       "        text-align: right;\n",
       "    }\n",
       "</style>\n",
       "<table border=\"1\" class=\"dataframe\">\n",
       "  <thead>\n",
       "    <tr style=\"text-align: right;\">\n",
       "      <th></th>\n",
       "      <th>订单编号</th>\n",
       "      <th>总金额</th>\n",
       "      <th>买家实际支付金额</th>\n",
       "      <th>收货地址</th>\n",
       "      <th>订单创建时间</th>\n",
       "      <th>订单付款时间</th>\n",
       "      <th>退款金额</th>\n",
       "    </tr>\n",
       "  </thead>\n",
       "  <tbody>\n",
       "    <tr>\n",
       "      <th>0</th>\n",
       "      <td>1</td>\n",
       "      <td>178.8</td>\n",
       "      <td>0.0</td>\n",
       "      <td>上海</td>\n",
       "      <td>2020-02-21 00:00:00</td>\n",
       "      <td>NaN</td>\n",
       "      <td>0.0</td>\n",
       "    </tr>\n",
       "    <tr>\n",
       "      <th>1</th>\n",
       "      <td>2</td>\n",
       "      <td>21.0</td>\n",
       "      <td>21.0</td>\n",
       "      <td>内蒙古自治区</td>\n",
       "      <td>2020-02-20 23:59:54</td>\n",
       "      <td>2020-02-21 00:00:02</td>\n",
       "      <td>0.0</td>\n",
       "    </tr>\n",
       "    <tr>\n",
       "      <th>2</th>\n",
       "      <td>3</td>\n",
       "      <td>37.0</td>\n",
       "      <td>0.0</td>\n",
       "      <td>安徽省</td>\n",
       "      <td>2020-02-20 23:59:35</td>\n",
       "      <td>NaN</td>\n",
       "      <td>0.0</td>\n",
       "    </tr>\n",
       "    <tr>\n",
       "      <th>3</th>\n",
       "      <td>4</td>\n",
       "      <td>157.0</td>\n",
       "      <td>157.0</td>\n",
       "      <td>湖南省</td>\n",
       "      <td>2020-02-20 23:58:34</td>\n",
       "      <td>2020-02-20 23:58:44</td>\n",
       "      <td>0.0</td>\n",
       "    </tr>\n",
       "    <tr>\n",
       "      <th>4</th>\n",
       "      <td>5</td>\n",
       "      <td>64.8</td>\n",
       "      <td>0.0</td>\n",
       "      <td>江苏省</td>\n",
       "      <td>2020-02-20 23:57:04</td>\n",
       "      <td>2020-02-20 23:57:11</td>\n",
       "      <td>64.8</td>\n",
       "    </tr>\n",
       "  </tbody>\n",
       "</table>\n",
       "</div>"
      ],
      "text/plain": [
       "   订单编号    总金额  买家实际支付金额   收货地址                订单创建时间              订单付款时间   \\\n",
       "0     1  178.8       0.0      上海  2020-02-21 00:00:00                  NaN   \n",
       "1     2   21.0      21.0  内蒙古自治区  2020-02-20 23:59:54  2020-02-21 00:00:02   \n",
       "2     3   37.0       0.0     安徽省  2020-02-20 23:59:35                  NaN   \n",
       "3     4  157.0     157.0     湖南省  2020-02-20 23:58:34  2020-02-20 23:58:44   \n",
       "4     5   64.8       0.0     江苏省  2020-02-20 23:57:04  2020-02-20 23:57:11   \n",
       "\n",
       "   退款金额  \n",
       "0   0.0  \n",
       "1   0.0  \n",
       "2   0.0  \n",
       "3   0.0  \n",
       "4  64.8  "
      ]
     },
     "execution_count": 1,
     "metadata": {},
     "output_type": "execute_result"
    }
   ],
   "source": [
    "import pandas as pd\n",
    "\n",
    "ori_data = pd.read_csv('tmall_order_report.csv')\n",
    "ori_data.head(5)"
   ]
  },
  {
   "cell_type": "code",
   "execution_count": 2,
   "id": "958d0e2e",
   "metadata": {},
   "outputs": [
    {
     "data": {
      "text/html": [
       "<div>\n",
       "<style scoped>\n",
       "    .dataframe tbody tr th:only-of-type {\n",
       "        vertical-align: middle;\n",
       "    }\n",
       "\n",
       "    .dataframe tbody tr th {\n",
       "        vertical-align: top;\n",
       "    }\n",
       "\n",
       "    .dataframe thead th {\n",
       "        text-align: right;\n",
       "    }\n",
       "</style>\n",
       "<table border=\"1\" class=\"dataframe\">\n",
       "  <thead>\n",
       "    <tr style=\"text-align: right;\">\n",
       "      <th></th>\n",
       "      <th>订单编号</th>\n",
       "      <th>总金额</th>\n",
       "      <th>买家实际支付金额</th>\n",
       "      <th>退款金额</th>\n",
       "    </tr>\n",
       "  </thead>\n",
       "  <tbody>\n",
       "    <tr>\n",
       "      <th>count</th>\n",
       "      <td>28010.000000</td>\n",
       "      <td>28010.000000</td>\n",
       "      <td>28010.000000</td>\n",
       "      <td>28010.000000</td>\n",
       "    </tr>\n",
       "    <tr>\n",
       "      <th>mean</th>\n",
       "      <td>14005.500000</td>\n",
       "      <td>106.953253</td>\n",
       "      <td>67.921712</td>\n",
       "      <td>20.433271</td>\n",
       "    </tr>\n",
       "    <tr>\n",
       "      <th>std</th>\n",
       "      <td>8085.934856</td>\n",
       "      <td>1136.587094</td>\n",
       "      <td>151.493434</td>\n",
       "      <td>71.501963</td>\n",
       "    </tr>\n",
       "    <tr>\n",
       "      <th>min</th>\n",
       "      <td>1.000000</td>\n",
       "      <td>1.000000</td>\n",
       "      <td>0.000000</td>\n",
       "      <td>0.000000</td>\n",
       "    </tr>\n",
       "    <tr>\n",
       "      <th>25%</th>\n",
       "      <td>7003.250000</td>\n",
       "      <td>38.000000</td>\n",
       "      <td>0.000000</td>\n",
       "      <td>0.000000</td>\n",
       "    </tr>\n",
       "    <tr>\n",
       "      <th>50%</th>\n",
       "      <td>14005.500000</td>\n",
       "      <td>75.000000</td>\n",
       "      <td>45.000000</td>\n",
       "      <td>0.000000</td>\n",
       "    </tr>\n",
       "    <tr>\n",
       "      <th>75%</th>\n",
       "      <td>21007.750000</td>\n",
       "      <td>119.000000</td>\n",
       "      <td>101.000000</td>\n",
       "      <td>0.000000</td>\n",
       "    </tr>\n",
       "    <tr>\n",
       "      <th>max</th>\n",
       "      <td>28010.000000</td>\n",
       "      <td>188320.000000</td>\n",
       "      <td>16065.000000</td>\n",
       "      <td>3800.000000</td>\n",
       "    </tr>\n",
       "  </tbody>\n",
       "</table>\n",
       "</div>"
      ],
      "text/plain": [
       "               订单编号            总金额      买家实际支付金额          退款金额\n",
       "count  28010.000000   28010.000000  28010.000000  28010.000000\n",
       "mean   14005.500000     106.953253     67.921712     20.433271\n",
       "std     8085.934856    1136.587094    151.493434     71.501963\n",
       "min        1.000000       1.000000      0.000000      0.000000\n",
       "25%     7003.250000      38.000000      0.000000      0.000000\n",
       "50%    14005.500000      75.000000     45.000000      0.000000\n",
       "75%    21007.750000     119.000000    101.000000      0.000000\n",
       "max    28010.000000  188320.000000  16065.000000   3800.000000"
      ]
     },
     "execution_count": 2,
     "metadata": {},
     "output_type": "execute_result"
    }
   ],
   "source": [
    "ori_data.describe()"
   ]
  },
  {
   "cell_type": "code",
   "execution_count": 3,
   "id": "2711457b",
   "metadata": {},
   "outputs": [
    {
     "name": "stdout",
     "output_type": "stream",
     "text": [
      "<class 'pandas.core.frame.DataFrame'>\n",
      "RangeIndex: 28010 entries, 0 to 28009\n",
      "Data columns (total 7 columns):\n",
      " #   Column    Non-Null Count  Dtype  \n",
      "---  ------    --------------  -----  \n",
      " 0   订单编号      28010 non-null  int64  \n",
      " 1   总金额       28010 non-null  float64\n",
      " 2   买家实际支付金额  28010 non-null  float64\n",
      " 3   收货地址      28010 non-null  object \n",
      " 4   订单创建时间    28010 non-null  object \n",
      " 5   订单付款时间    24087 non-null  object \n",
      " 6   退款金额      28010 non-null  float64\n",
      "dtypes: float64(3), int64(1), object(3)\n",
      "memory usage: 1.5+ MB\n"
     ]
    }
   ],
   "source": [
    "ori_data.info()"
   ]
  },
  {
   "cell_type": "code",
   "execution_count": 4,
   "id": "e63e129f",
   "metadata": {},
   "outputs": [
    {
     "data": {
      "text/plain": [
       "Index(['订单编号', '总金额', '买家实际支付金额', '收货地址', '订单创建时间', '订单付款时间', '退款金额'], dtype='object')"
      ]
     },
     "execution_count": 4,
     "metadata": {},
     "output_type": "execute_result"
    }
   ],
   "source": [
    "# 规范列名（去空格）\n",
    "ori_data.columns = ori_data.columns.str.strip()  \n",
    "ori_data.columns"
   ]
  },
  {
   "cell_type": "code",
   "execution_count": 5,
   "id": "dca0b6ac",
   "metadata": {},
   "outputs": [
    {
     "name": "stdout",
     "output_type": "stream",
     "text": [
      "订单编号        0\n",
      "总金额         0\n",
      "买家实际支付金额    0\n",
      "收货地址        0\n",
      "订单创建时间      0\n",
      "订单付款时间      0\n",
      "退款金额        0\n",
      "dtype: int64\n",
      "订单编号           0\n",
      "总金额            0\n",
      "买家实际支付金额       0\n",
      "收货地址           0\n",
      "订单创建时间         0\n",
      "订单付款时间      3923\n",
      "退款金额           0\n",
      "dtype: int64\n"
     ]
    }
   ],
   "source": [
    "# 判断是否存在重复行\n",
    "'''\n",
    "DataFrame.duplicated(subset=None, keep='first')\n",
    "- subset: column label or sequence of labels\n",
    "- keep: 'first'(keep first False),'last'(keep last False), False(all True)\n",
    "'''\n",
    "print(ori_data[ori_data.duplicated()].count())\n",
    "#（可用drop_duplicated()去重）\n",
    "\n",
    "# 统计各项属性null数据量\n",
    "print(ori_data.isnull().sum())"
   ]
  },
  {
   "cell_type": "code",
   "execution_count": 37,
   "id": "6f1a4c40",
   "metadata": {},
   "outputs": [
    {
     "data": {
      "text/plain": [
       "0       2020-02-21 00:00:00\n",
       "1       2020-02-20 23:59:54\n",
       "2       2020-02-20 23:59:35\n",
       "3       2020-02-20 23:58:34\n",
       "4       2020-02-20 23:57:04\n",
       "                ...        \n",
       "28005   2020-02-27 00:01:00\n",
       "28006   2020-02-27 00:00:18\n",
       "28007   2020-02-27 00:00:17\n",
       "28008   2020-02-27 00:00:09\n",
       "28009   2020-02-27 00:00:06\n",
       "Name: 订单创建时间, Length: 28010, dtype: datetime64[ns]"
      ]
     },
     "execution_count": 37,
     "metadata": {},
     "output_type": "execute_result"
    }
   ],
   "source": [
    "# 将时间属性转换为时间格式对象\n",
    "# to_datetime()  convert data to pd.datatime obj\n",
    "\n",
    "ori_data['订单创建时间'] = pd.to_datetime(ori_data['订单创建时间'])\n",
    "ori_data['订单付款时间'] = pd.to_datetime(ori_data['订单付款时间'])\n"
   ]
  },
  {
   "cell_type": "markdown",
   "id": "02b2acc3",
   "metadata": {},
   "source": [
    "#### 1.2 数据可视化与数据分析\n",
    "**总体分析**"
   ]
  },
  {
   "cell_type": "code",
   "execution_count": 76,
   "id": "59cc7f4b",
   "metadata": {},
   "outputs": [
    {
     "name": "stdout",
     "output_type": "stream",
     "text": [
      "订单总数 28010.00\n",
      "已完成订单数 24087.00\n",
      "未付款订单数 3923.00\n",
      "总订单金额 2474823.07\n",
      "总退款金额 572335.92\n",
      "总实际收入金额 1902487.15\n"
     ]
    }
   ],
   "source": [
    "from matplotlib import pyplot as plt\n",
    "plt.rcParams['font.sans-serif']=['SimHei'] #Show Chinese label\n",
    "plt.rcParams['axes.unicode_minus']=False   #These two lines need to be set manually\n",
    "\n",
    "stat_res = {}\n",
    "\n",
    "stat_res['订单总数'] = ori_data['订单编号'].count()\n",
    "stat_res['已完成订单数'] = ori_data['订单编号'][ori_data['订单付款时间'].notnull()].count()\n",
    "stat_res['未付款订单数'] = ori_data['订单编号'][ori_data['订单付款时间'].isnull()].count()\n",
    "stat_res['总订单金额'] = ori_data['总金额'][ori_data['订单付款时间'].notnull()].sum()\n",
    "stat_res['总退款金额'] = ori_data['退款金额'].sum()\n",
    "stat_res['总实际收入金额'] = ori_data['买家实际支付金额'][ori_data['订单付款时间'].notnull()].sum()\n",
    "\n",
    "for k, v in stat_res.items():\n",
    "    print(k, '%.2f'%v)"
   ]
  },
  {
   "cell_type": "code",
   "execution_count": 72,
   "id": "63f60fb7",
   "metadata": {},
   "outputs": [
    {
     "data": {
      "image/png": "[encoded data removed]",
      "text/plain": [
       "<Figure size 720x576 with 1 Axes>"
      ]
     },
     "metadata": {
      "needs_background": "light"
     },
     "output_type": "display_data"
    }
   ],
   "source": [
    "# 清理省份名称数据\n",
    "ori_data['收货地址'] = ori_data['收货地址'].str.replace('自治区|维吾尔|省|壮族|回族', '', regex=True)\n",
    "\n",
    "res0 = ori_data['收货地址'].groupby(ori_data['收货地址']).agg('count').to_dict()\n",
    "\n",
    "res0 = dict(sorted(res0.items(), key=lambda x: x[1], reverse=True))\n",
    "\n",
    "fig = plt.figure(figsize=(10, 8))\n",
    "plt.bar(res0.keys(), res0.values())\n",
    "plt.xticks(rotation=90)\n",
    "plt.xlabel('Province')\n",
    "plt.ylabel('Order Volumes')\n",
    "plt.show()"
   ]
  },
  {
   "cell_type": "markdown",
   "id": "b1c53dcc",
   "metadata": {},
   "source": [
    "**时间趋势分析**"
   ]
  },
  {
   "cell_type": "code",
   "execution_count": 78,
   "id": "8f0deadb",
   "metadata": {},
   "outputs": [
    {
     "data": {
      "image/png": "[encoded data removed]",
      "text/plain": [
       "<Figure size 432x288 with 1 Axes>"
      ]
     },
     "metadata": {
      "needs_background": "light"
     },
     "output_type": "display_data"
    }
   ],
   "source": [
    "res1 = ori_data.groupby(ori_data['订单创建时间'].apply(lambda x: x.strftime('%Y-%m-%d'))).agg({'订单创建时间':'count'}).to_dict()['订单创建时间']\n",
    "\n",
    "# groupby()\n",
    "# apply()\n",
    "# strftime()\n",
    "# agg()\n",
    "# to_dict()\n",
    "\n",
    "plt.plot(res1.keys(), res1.values())\n",
    "plt.xticks(rotation=65)\n",
    "plt.xlabel('Date')\n",
    "plt.ylabel('Order Volumes')\n",
    "plt.title('Monthly Order Volumes Trend')\n",
    "plt.show()"
   ]
  },
  {
   "cell_type": "markdown",
   "id": "f78bbf11",
   "metadata": {},
   "source": [
    "从上图可见，2月份上半月的订单较少，从2月14日订单开始明显上涨"
   ]
  },
  {
   "cell_type": "code",
   "execution_count": 77,
   "id": "a7962d17",
   "metadata": {},
   "outputs": [
    {
     "data": {
      "image/png": "[encoded data removed]",
      "text/plain": [
       "<Figure size 432x288 with 1 Axes>"
      ]
     },
     "metadata": {
      "needs_background": "light"
     },
     "output_type": "display_data"
    }
   ],
   "source": [
    "res2 = ori_data.groupby(ori_data['订单创建时间'].apply(lambda x: x.strftime('%H'))).agg({'订单编号':'count'}).to_dict()['订单编号']\n",
    "\n",
    "\n",
    "plt.bar(res2.keys(), res2.values())\n",
    "plt.title('Hourly Order Volumes Trend')\n",
    "plt.xlabel('Hour')\n",
    "plt.ylabel('Order Volumes')\n",
    "plt.show()"
   ]
  },
  {
   "cell_type": "markdown",
   "id": "b816d8be",
   "metadata": {},
   "source": [
    "上图表明的一天中每个小时的下单数量变化趋势，一天中在10点，15点，21点出现了下单的高峰点，其中晚上时间段（20点至22点）下单量明显高于其他时间段。因此根据下单的时间规律，可在高峰期合理安排客服人员，保证客服回复速度，从而提高服务质量。"
   ]
  },
  {
   "cell_type": "markdown",
   "id": "38af8243",
   "metadata": {},
   "source": [
    "### Part 2\n",
    "双十一淘宝美妆数据.csv：数据集是美妆店铺的双十一销售数据,约2.75万条数据，可以挖掘的纬度有日期、店铺，指标则有销售量、销售额、评论数等。\n",
    "\n",
    "#### 2.1 数据理解与处理\n"
   ]
  },
  {
   "cell_type": "code",
   "execution_count": 2,
   "id": "773fec22",
   "metadata": {},
   "outputs": [
    {
     "data": {
      "text/html": [
       "<div>\n",
       "<style scoped>\n",
       "    .dataframe tbody tr th:only-of-type {\n",
       "        vertical-align: middle;\n",
       "    }\n",
       "\n",
       "    .dataframe tbody tr th {\n",
       "        vertical-align: top;\n",
       "    }\n",
       "\n",
       "    .dataframe thead th {\n",
       "        text-align: right;\n",
       "    }\n",
       "</style>\n",
       "<table border=\"1\" class=\"dataframe\">\n",
       "  <thead>\n",
       "    <tr style=\"text-align: right;\">\n",
       "      <th></th>\n",
       "      <th>update_time</th>\n",
       "      <th>id</th>\n",
       "      <th>title</th>\n",
       "      <th>price</th>\n",
       "      <th>sale_count</th>\n",
       "      <th>comment_count</th>\n",
       "      <th>店名</th>\n",
       "    </tr>\n",
       "  </thead>\n",
       "  <tbody>\n",
       "    <tr>\n",
       "      <th>0</th>\n",
       "      <td>2016/11/14</td>\n",
       "      <td>A18164178225</td>\n",
       "      <td>CHANDO/自然堂 雪域精粹纯粹滋润霜50g 补水保湿 滋润水润面霜</td>\n",
       "      <td>139.0</td>\n",
       "      <td>26719.0</td>\n",
       "      <td>2704.0</td>\n",
       "      <td>自然堂</td>\n",
       "    </tr>\n",
       "    <tr>\n",
       "      <th>1</th>\n",
       "      <td>2016/11/14</td>\n",
       "      <td>A18177105952</td>\n",
       "      <td>CHANDO/自然堂凝时鲜颜肌活乳液120ML 淡化细纹补水滋润专柜正品</td>\n",
       "      <td>194.0</td>\n",
       "      <td>8122.0</td>\n",
       "      <td>1492.0</td>\n",
       "      <td>自然堂</td>\n",
       "    </tr>\n",
       "    <tr>\n",
       "      <th>2</th>\n",
       "      <td>2016/11/14</td>\n",
       "      <td>A18177226992</td>\n",
       "      <td>CHANDO/自然堂活泉保湿修护精华水（滋润型135ml 补水控油爽肤水</td>\n",
       "      <td>99.0</td>\n",
       "      <td>12668.0</td>\n",
       "      <td>589.0</td>\n",
       "      <td>自然堂</td>\n",
       "    </tr>\n",
       "    <tr>\n",
       "      <th>3</th>\n",
       "      <td>2016/11/14</td>\n",
       "      <td>A18178033846</td>\n",
       "      <td>CHANDO/自然堂 男士劲爽控油洁面膏 100g 深层清洁  男士洗面奶</td>\n",
       "      <td>38.0</td>\n",
       "      <td>25805.0</td>\n",
       "      <td>4287.0</td>\n",
       "      <td>自然堂</td>\n",
       "    </tr>\n",
       "    <tr>\n",
       "      <th>4</th>\n",
       "      <td>2016/11/14</td>\n",
       "      <td>A18178045259</td>\n",
       "      <td>CHANDO/自然堂雪域精粹纯粹滋润霜（清爽型）50g补水保湿滋润霜</td>\n",
       "      <td>139.0</td>\n",
       "      <td>5196.0</td>\n",
       "      <td>618.0</td>\n",
       "      <td>自然堂</td>\n",
       "    </tr>\n",
       "  </tbody>\n",
       "</table>\n",
       "</div>"
      ],
      "text/plain": [
       "  update_time            id                                  title  price  \\\n",
       "0  2016/11/14  A18164178225    CHANDO/自然堂 雪域精粹纯粹滋润霜50g 补水保湿 滋润水润面霜  139.0   \n",
       "1  2016/11/14  A18177105952   CHANDO/自然堂凝时鲜颜肌活乳液120ML 淡化细纹补水滋润专柜正品  194.0   \n",
       "2  2016/11/14  A18177226992   CHANDO/自然堂活泉保湿修护精华水（滋润型135ml 补水控油爽肤水   99.0   \n",
       "3  2016/11/14  A18178033846  CHANDO/自然堂 男士劲爽控油洁面膏 100g 深层清洁  男士洗面奶   38.0   \n",
       "4  2016/11/14  A18178045259     CHANDO/自然堂雪域精粹纯粹滋润霜（清爽型）50g补水保湿滋润霜  139.0   \n",
       "\n",
       "   sale_count  comment_count   店名  \n",
       "0     26719.0         2704.0  自然堂  \n",
       "1      8122.0         1492.0  自然堂  \n",
       "2     12668.0          589.0  自然堂  \n",
       "3     25805.0         4287.0  自然堂  \n",
       "4      5196.0          618.0  自然堂  "
      ]
     },
     "execution_count": 2,
     "metadata": {},
     "output_type": "execute_result"
    }
   ],
   "source": [
    "import pandas as pd\n",
    "\n",
    "tmall_11_makeup_data = pd.read_csv('双十一淘宝美妆数据.csv')\n",
    "tmall_11_makeup_data.head()"
   ]
  },
  {
   "cell_type": "code",
   "execution_count": 3,
   "id": "1e1cc529",
   "metadata": {},
   "outputs": [
    {
     "name": "stdout",
     "output_type": "stream",
     "text": [
      "<class 'pandas.core.frame.DataFrame'>\n",
      "RangeIndex: 27598 entries, 0 to 27597\n",
      "Data columns (total 7 columns):\n",
      " #   Column         Non-Null Count  Dtype  \n",
      "---  ------         --------------  -----  \n",
      " 0   update_time    27598 non-null  object \n",
      " 1   id             27598 non-null  object \n",
      " 2   title          27598 non-null  object \n",
      " 3   price          27598 non-null  float64\n",
      " 4   sale_count     25244 non-null  float64\n",
      " 5   comment_count  25244 non-null  float64\n",
      " 6   店名             27598 non-null  object \n",
      "dtypes: float64(3), object(4)\n",
      "memory usage: 1.5+ MB\n"
     ]
    }
   ],
   "source": [
    "tmall_11_makeup_data.info()"
   ]
  },
  {
   "cell_type": "code",
   "execution_count": 4,
   "id": "d5eaf9d5",
   "metadata": {},
   "outputs": [
    {
     "name": "stdout",
     "output_type": "stream",
     "text": [
      "update_time      86\n",
      "id               86\n",
      "title            86\n",
      "price            86\n",
      "sale_count       82\n",
      "comment_count    82\n",
      "店名               86\n",
      "dtype: int64\n"
     ]
    }
   ],
   "source": [
    "# 数据查重\n",
    "print(tmall_11_makeup_data[tmall_11_makeup_data.duplicated()].count())\n"
   ]
  },
  {
   "cell_type": "code",
   "execution_count": 5,
   "id": "5e0f21cc",
   "metadata": {},
   "outputs": [],
   "source": [
    "# 数据去重，重建索引\n",
    "tmall_11_makeup_data.drop_duplicates(inplace=True)\n",
    "tmall_11_makeup_data.reset_index(drop=True, inplace=True)"
   ]
  },
  {
   "cell_type": "code",
   "execution_count": 6,
   "id": "bb0e060d",
   "metadata": {},
   "outputs": [
    {
     "data": {
      "text/plain": [
       "update_time         0\n",
       "id                  0\n",
       "title               0\n",
       "price               0\n",
       "sale_count       2350\n",
       "comment_count    2350\n",
       "店名                  0\n",
       "dtype: int64"
      ]
     },
     "execution_count": 6,
     "metadata": {},
     "output_type": "execute_result"
    }
   ],
   "source": [
    "# 检测空值\n",
    "tmall_11_makeup_data.isnull().sum()  # sale_count comment_count存在空值"
   ]
  },
  {
   "cell_type": "code",
   "execution_count": 7,
   "id": "c4680b7a",
   "metadata": {},
   "outputs": [
    {
     "data": {
      "text/html": [
       "<div>\n",
       "<style scoped>\n",
       "    .dataframe tbody tr th:only-of-type {\n",
       "        vertical-align: middle;\n",
       "    }\n",
       "\n",
       "    .dataframe tbody tr th {\n",
       "        vertical-align: top;\n",
       "    }\n",
       "\n",
       "    .dataframe thead th {\n",
       "        text-align: right;\n",
       "    }\n",
       "</style>\n",
       "<table border=\"1\" class=\"dataframe\">\n",
       "  <thead>\n",
       "    <tr style=\"text-align: right;\">\n",
       "      <th></th>\n",
       "      <th>update_time</th>\n",
       "      <th>id</th>\n",
       "      <th>title</th>\n",
       "      <th>price</th>\n",
       "      <th>sale_count</th>\n",
       "      <th>comment_count</th>\n",
       "      <th>店名</th>\n",
       "      <th>sale_amount</th>\n",
       "    </tr>\n",
       "  </thead>\n",
       "  <tbody>\n",
       "    <tr>\n",
       "      <th>17026</th>\n",
       "      <td>2016/11/14</td>\n",
       "      <td>A24304992630</td>\n",
       "      <td>德国妮维雅男士洗面奶控油祛痘印保湿去黑头去油清洁面乳液护肤品</td>\n",
       "      <td>42.0</td>\n",
       "      <td>1923160.0</td>\n",
       "      <td>197949.0</td>\n",
       "      <td>妮维雅</td>\n",
       "      <td>80772720.0</td>\n",
       "    </tr>\n",
       "    <tr>\n",
       "      <th>17126</th>\n",
       "      <td>2016/11/13</td>\n",
       "      <td>A24304992630</td>\n",
       "      <td>德国妮维雅男士洗面奶控油祛痘印保湿去黑头去油清洁面乳液护肤品</td>\n",
       "      <td>37.9</td>\n",
       "      <td>1921582.0</td>\n",
       "      <td>198774.0</td>\n",
       "      <td>妮维雅</td>\n",
       "      <td>72827957.8</td>\n",
       "    </tr>\n",
       "    <tr>\n",
       "      <th>17228</th>\n",
       "      <td>2016/11/12</td>\n",
       "      <td>A24304992630</td>\n",
       "      <td>德国妮维雅男士洗面奶控油祛痘印保湿去黑头去油清洁面乳液护肤品</td>\n",
       "      <td>37.9</td>\n",
       "      <td>1920083.0</td>\n",
       "      <td>199062.0</td>\n",
       "      <td>妮维雅</td>\n",
       "      <td>72771145.7</td>\n",
       "    </tr>\n",
       "    <tr>\n",
       "      <th>17339</th>\n",
       "      <td>2016/11/11</td>\n",
       "      <td>A24304992630</td>\n",
       "      <td>2瓶更划算*妮维雅男士洗面奶控油祛痘印保湿去黑头去油洁面乳护肤</td>\n",
       "      <td>35.0</td>\n",
       "      <td>1886100.0</td>\n",
       "      <td>199532.0</td>\n",
       "      <td>妮维雅</td>\n",
       "      <td>66013500.0</td>\n",
       "    </tr>\n",
       "    <tr>\n",
       "      <th>17470</th>\n",
       "      <td>2016/11/10</td>\n",
       "      <td>A24304992630</td>\n",
       "      <td>德国妮维雅男士洗面奶控油祛痘印保湿去黑头去油清洁面乳液护肤品</td>\n",
       "      <td>42.0</td>\n",
       "      <td>1827562.0</td>\n",
       "      <td>200154.0</td>\n",
       "      <td>妮维雅</td>\n",
       "      <td>76757604.0</td>\n",
       "    </tr>\n",
       "  </tbody>\n",
       "</table>\n",
       "</div>"
      ],
      "text/plain": [
       "      update_time            id                            title  price  \\\n",
       "17026  2016/11/14  A24304992630   德国妮维雅男士洗面奶控油祛痘印保湿去黑头去油清洁面乳液护肤品   42.0   \n",
       "17126  2016/11/13  A24304992630   德国妮维雅男士洗面奶控油祛痘印保湿去黑头去油清洁面乳液护肤品   37.9   \n",
       "17228  2016/11/12  A24304992630   德国妮维雅男士洗面奶控油祛痘印保湿去黑头去油清洁面乳液护肤品   37.9   \n",
       "17339  2016/11/11  A24304992630  2瓶更划算*妮维雅男士洗面奶控油祛痘印保湿去黑头去油洁面乳护肤   35.0   \n",
       "17470  2016/11/10  A24304992630   德国妮维雅男士洗面奶控油祛痘印保湿去黑头去油清洁面乳液护肤品   42.0   \n",
       "\n",
       "       sale_count  comment_count   店名  sale_amount  \n",
       "17026   1923160.0       197949.0  妮维雅   80772720.0  \n",
       "17126   1921582.0       198774.0  妮维雅   72827957.8  \n",
       "17228   1920083.0       199062.0  妮维雅   72771145.7  \n",
       "17339   1886100.0       199532.0  妮维雅   66013500.0  \n",
       "17470   1827562.0       200154.0  妮维雅   76757604.0  "
      ]
     },
     "execution_count": 7,
     "metadata": {},
     "output_type": "execute_result"
    }
   ],
   "source": [
    "# 填补空值\n",
    "tmall_11_makeup_data.fillna(0, inplace=True)\n",
    "# 检测空值\n",
    "# tmall_11_makeup_data.isnull().sum()\n",
    "\n",
    "# 添加销售总额\n",
    "tmall_11_makeup_data['sale_amount'] = tmall_11_makeup_data['sale_count']*tmall_11_makeup_data['price']\n",
    "\n",
    "tmall_11_makeup_data[tmall_11_makeup_data['sale_amount']>0].sort_values(by=['sale_count'], ascending=False).head()"
   ]
  },
  {
   "cell_type": "code",
   "execution_count": 8,
   "id": "66302581",
   "metadata": {},
   "outputs": [],
   "source": [
    "# 日期格式化\n",
    "tmall_11_makeup_data['update_time'] = pd.to_datetime(tmall_11_makeup_data['update_time']).apply(lambda x: x.strftime('%Y-%m-%d'))"
   ]
  },
  {
   "cell_type": "code",
   "execution_count": 9,
   "id": "83c22c2e",
   "metadata": {},
   "outputs": [
    {
     "data": {
      "text/plain": [
       "array(['自然堂', '资生堂', '植村秀', '悦诗风吟', '玉兰油', '雅漾', '雅诗兰黛', '雪花秀', '相宜本草',\n",
       "       '薇姿', '倩碧', '欧珀莱', '欧莱雅', '妮维雅', '蜜丝佛陀', '美加净', '美宝莲', '兰芝', '兰蔻',\n",
       "       '娇兰', '佰草集', 'SKII'], dtype=object)"
      ]
     },
     "execution_count": 9,
     "metadata": {},
     "output_type": "execute_result"
    }
   ],
   "source": [
    "tmall_11_makeup_data['店名'].unique()"
   ]
  },
  {
   "cell_type": "markdown",
   "id": "7422bf88",
   "metadata": {},
   "source": [
    "#### 2.2 数据可视化与分析"
   ]
  },
  {
   "cell_type": "code",
   "execution_count": 11,
   "id": "d4194acb",
   "metadata": {},
   "outputs": [
    {
     "name": "stdout",
     "output_type": "stream",
     "text": [
      "{'SKII': 0.0, '植村秀': 0.0, '玉兰油': 0.0, '娇兰': 75601800.0, '资生堂': 166722560.0, '薇姿': 222742503.0, '雪花秀': 362906106.0, '美加净': 385191839.27, '欧珀莱': 1119465071.0, '雅漾': 1120840024.0, '兰蔻': 1647341010.0, '倩碧': 1999199220.0, '蜜丝佛陀': 2082466315.7, '妮维雅': 2200167505.57, '兰芝': 2525665625.0, '自然堂': 2941152853.5, '雅诗兰黛': 3040251794.0, '悦诗风吟': 3386962445.0, '美宝莲': 3531516325.0, '佰草集': 4018679349.8, '欧莱雅': 5312478542.0, '相宜本草': 6145791045.42}\n"
     ]
    }
   ],
   "source": [
    "import matplotlib.pyplot as plt\n",
    "plt.rcParams['font.sans-serif']=['SimHei'] #Show Chinese label\n",
    "plt.rcParams['axes.unicode_minus']=False   #These two lines need to be set manually\n",
    "\n",
    "stat_sale_temp = tmall_11_makeup_data.groupby(tmall_11_makeup_data['店名']).agg({'sale_count': 'sum', 'sale_amount':'sum'}).to_dict()\n",
    "\n",
    "sale_count_dict = stat_sale_temp['sale_count']\n",
    "\n",
    "sale_count_dict = dict(sorted(sale_count_dict.items(), key=lambda x: x[1]))\n",
    "sale_count_dict = filter('')\n",
    "\n",
    "sale_amount_dict = stat_sale_temp['sale_amount']\n",
    "sale_count_dict = dict(sorted(sale_count_dict.items(), key=lambda x: x[1]))\n",
    "\n",
    "\n",
    "print(sale_amount_dict)\n",
    "\n",
    "\n",
    "\n",
    "# res0 = dict(filter(lambda x: x[1] != 0, res1.items()))\n",
    "# res0 = dict(sorted(res0.items(), key=lambda x: x[1]))\n",
    "\n",
    "# fig = plt.figure(figsize=(8,6))\n",
    "# x = list(res0.keys())\n",
    "# y = list(res0.values())\n",
    "\n",
    "# plt.barh(x, y)\n",
    "# plt.ylabel('Brand')\n",
    "# plt.xlabel('Total Sale')\n",
    "\n",
    "# for i in range(len(y)):\n",
    "#     plt.annotate('{:.2f}百万'.format(y[i]/1000000), (y[i]+0.1, i-0.1))       # 设置数据的标注\n",
    "# plt.show()\n",
    "# udemy"
   ]
  },
  {
   "cell_type": "code",
   "execution_count": null,
   "id": "8e02e933",
   "metadata": {},
   "outputs": [],
   "source": []
  }
 ],
 "metadata": {
  "kernelspec": {
   "display_name": "Python 3 (ipykernel)",
   "language": "python",
   "name": "python3"
  },
  "language_info": {
   "codemirror_mode": {
    "name": "ipython",
    "version": 3
   },
   "file_extension": ".py",
   "mimetype": "text/x-python",
   "name": "python",
   "nbconvert_exporter": "python",
   "pygments_lexer": "ipython3",
   "version": "3.9.12"
  }
 },
 "nbformat": 4,
 "nbformat_minor": 5
}
